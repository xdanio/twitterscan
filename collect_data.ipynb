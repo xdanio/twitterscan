{
 "cells": [
  {
   "cell_type": "code",
   "execution_count": 8,
   "metadata": {},
   "outputs": [],
   "source": [
    "import tweepy as tw\n",
    "import pandas as pd\n",
    "import numpy as np\n",
    "import re\n",
    "from gensim.models.phrases import Phrases, Phraser"
   ]
  },
  {
   "cell_type": "code",
   "execution_count": 9,
   "metadata": {},
   "outputs": [],
   "source": [
    "keys = r'C:\\Users\\Daniel\\Documents\\IS IV\\metody_i_narzedzia_big_data\\L_K_Brzostowski\\Projekt\\fine\\data\\Keys.txt'\n",
    "\n",
    "mykeys = open(keys, 'r').read().splitlines()\n",
    "api_key, api_secret_key, api_token = mykeys[1:]\n",
    "\n",
    "auth = tw.OAuthHandler(api_key, api_secret_key)\n",
    "api = tw.API(auth, wait_on_rate_limit=True)"
   ]
  },
  {
   "cell_type": "code",
   "execution_count": 10,
   "metadata": {},
   "outputs": [],
   "source": [
    "def scrape(words, date_since, numtweet, followers_num):\n",
    "  db = pd.DataFrame(columns=['username',\n",
    "                                   'followers',\n",
    "                                   'text'])\n",
    "\n",
    "  tweets = tw.Cursor(api.search_tweets,\n",
    "                               words, lang=\"en\",\n",
    "                               \n",
    "                               since_id=date_since,\n",
    "                              #  result_type = 'popular',\n",
    "                               tweet_mode='extended',).items(numtweet)\n",
    "\n",
    "  for tweet in tweets:\n",
    "    followers = tweet.user.followers_count\n",
    "    if followers < followers_num: continue\n",
    "    username = tweet.user.screen_name\n",
    "    text = tweet.full_text\n",
    "    # hashtags = tweet.entities['hashtags']\n",
    "  \n",
    "    ith_tweet = [username, followers, text]\n",
    "    db.loc[len(db)] = ith_tweet\n",
    "  return db\n"
   ]
  },
  {
   "cell_type": "code",
   "execution_count": 11,
   "metadata": {},
   "outputs": [],
   "source": [
    "# followers = 50000\n",
    "# search_query = \"#bitcoin OR #BTC OR #btc -filter:retweets\" # BTC followers= 50 000\n",
    "\n",
    "\n",
    "# data_since = \"2022-04-00\"\n",
    "# db = scrape(search_query, data_since, followers)"
   ]
  },
  {
   "cell_type": "code",
   "execution_count": 12,
   "metadata": {},
   "outputs": [
    {
     "name": "stderr",
     "output_type": "stream",
     "text": [
      "Rate limit reached. Sleeping for: 702\n"
     ]
    }
   ],
   "source": [
    "followers = 100_000\n",
    "tweets_num = 100_000\n",
    "search_query = \"#tesla OR #TSLA OR #tsla @-filter:retweets\" # Tesla\n",
    "\n",
    "data_since = \"2022-01-00\"\n",
    "db = scrape(search_query, data_since, tweets_num, followers)"
   ]
  },
  {
   "cell_type": "code",
   "execution_count": 13,
   "metadata": {},
   "outputs": [
    {
     "name": "stdout",
     "output_type": "stream",
     "text": [
      "(45, 3)\n"
     ]
    },
    {
     "data": {
      "text/html": [
       "<div>\n",
       "<style scoped>\n",
       "    .dataframe tbody tr th:only-of-type {\n",
       "        vertical-align: middle;\n",
       "    }\n",
       "\n",
       "    .dataframe tbody tr th {\n",
       "        vertical-align: top;\n",
       "    }\n",
       "\n",
       "    .dataframe thead th {\n",
       "        text-align: right;\n",
       "    }\n",
       "</style>\n",
       "<table border=\"1\" class=\"dataframe\">\n",
       "  <thead>\n",
       "    <tr style=\"text-align: right;\">\n",
       "      <th></th>\n",
       "      <th>username</th>\n",
       "      <th>followers</th>\n",
       "      <th>text</th>\n",
       "    </tr>\n",
       "  </thead>\n",
       "  <tbody>\n",
       "    <tr>\n",
       "      <th>0</th>\n",
       "      <td>the_hindu</td>\n",
       "      <td>7618769</td>\n",
       "      <td>Serum Institute of India (SII) CEO #AdarPoonaw...</td>\n",
       "    </tr>\n",
       "    <tr>\n",
       "      <th>1</th>\n",
       "      <td>MirrorNow</td>\n",
       "      <td>110495</td>\n",
       "      <td>ADAR POONAWALLA'S SUGGESTION TO ELON MUSK\\n@Se...</td>\n",
       "    </tr>\n",
       "    <tr>\n",
       "      <th>2</th>\n",
       "      <td>EconomicTimes</td>\n",
       "      <td>4191218</td>\n",
       "      <td>'Best investment you'll make…': #AdarPoonawall...</td>\n",
       "    </tr>\n",
       "    <tr>\n",
       "      <th>3</th>\n",
       "      <td>TelanganaToday</td>\n",
       "      <td>254267</td>\n",
       "      <td>Serum Institute of India CEO #AdarPoonawalla w...</td>\n",
       "    </tr>\n",
       "    <tr>\n",
       "      <th>4</th>\n",
       "      <td>business_today</td>\n",
       "      <td>1158952</td>\n",
       "      <td>Poonawalla stated that if Musk does not end up...</td>\n",
       "    </tr>\n",
       "  </tbody>\n",
       "</table>\n",
       "</div>"
      ],
      "text/plain": [
       "         username followers                                               text\n",
       "0       the_hindu   7618769  Serum Institute of India (SII) CEO #AdarPoonaw...\n",
       "1       MirrorNow    110495  ADAR POONAWALLA'S SUGGESTION TO ELON MUSK\\n@Se...\n",
       "2   EconomicTimes   4191218  'Best investment you'll make…': #AdarPoonawall...\n",
       "3  TelanganaToday    254267  Serum Institute of India CEO #AdarPoonawalla w...\n",
       "4  business_today   1158952  Poonawalla stated that if Musk does not end up..."
      ]
     },
     "execution_count": 13,
     "metadata": {},
     "output_type": "execute_result"
    }
   ],
   "source": [
    "print(db.shape)\n",
    "db.head()"
   ]
  },
  {
   "cell_type": "code",
   "execution_count": 14,
   "metadata": {},
   "outputs": [],
   "source": [
    "# db['text'].to_csv('fine\\\\data.csv', index=False) # BTC\n",
    "\n",
    "tesla = r'C:\\Users\\Daniel\\Documents\\IS IV\\metody_i_narzedzia_big_data\\L_K_Brzostowski\\Projekt\\fine\\data\\tesla_data.csv'\n",
    "db['text'].to_csv(tesla, index=False)\n"
   ]
  }
 ],
 "metadata": {
  "interpreter": {
   "hash": "13427881f06f13311079f5221e5dd632fdf9146891f6da22d47a93dcb9272d3a"
  },
  "kernelspec": {
   "display_name": "Python 3.9.7 ('base')",
   "language": "python",
   "name": "python3"
  },
  "language_info": {
   "codemirror_mode": {
    "name": "ipython",
    "version": 3
   },
   "file_extension": ".py",
   "mimetype": "text/x-python",
   "name": "python",
   "nbconvert_exporter": "python",
   "pygments_lexer": "ipython3",
   "version": "3.9.7"
  },
  "orig_nbformat": 4
 },
 "nbformat": 4,
 "nbformat_minor": 2
}
